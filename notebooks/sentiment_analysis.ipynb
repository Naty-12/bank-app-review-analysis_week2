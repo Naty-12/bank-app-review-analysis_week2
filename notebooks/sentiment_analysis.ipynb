{
 "cells": [
  {
   "cell_type": "code",
   "execution_count": 1,
   "id": "1c940d5c",
   "metadata": {},
   "outputs": [],
   "source": [
    "# import important libraries \n",
    "import pandas as pd\n",
    "import nltk\n",
    "from nltk.corpus import stopwords\n",
    "from nltk.stem import WordNetLemmatizer"
   ]
  },
  {
   "cell_type": "code",
   "execution_count": 2,
   "id": "7ab5e48e",
   "metadata": {},
   "outputs": [],
   "source": [
    "from textblob import TextBlob\n",
    "from nltk.sentiment.vader import SentimentIntensityAnalyzer\n",
    "from sklearn.feature_extraction.text import TfidfVectorizer\n",
    "from sklearn.cluster import KMeans"
   ]
  },
  {
   "cell_type": "code",
   "execution_count": 3,
   "id": "364f1a41",
   "metadata": {},
   "outputs": [
    {
     "data": {
      "text/html": [
       "<div>\n",
       "<style scoped>\n",
       "    .dataframe tbody tr th:only-of-type {\n",
       "        vertical-align: middle;\n",
       "    }\n",
       "\n",
       "    .dataframe tbody tr th {\n",
       "        vertical-align: top;\n",
       "    }\n",
       "\n",
       "    .dataframe thead th {\n",
       "        text-align: right;\n",
       "    }\n",
       "</style>\n",
       "<table border=\"1\" class=\"dataframe\">\n",
       "  <thead>\n",
       "    <tr style=\"text-align: right;\">\n",
       "      <th></th>\n",
       "      <th>review</th>\n",
       "      <th>rating</th>\n",
       "      <th>date</th>\n",
       "      <th>bank</th>\n",
       "      <th>source</th>\n",
       "    </tr>\n",
       "  </thead>\n",
       "  <tbody>\n",
       "    <tr>\n",
       "      <th>0</th>\n",
       "      <td>niec</td>\n",
       "      <td>5</td>\n",
       "      <td>2025-06-04</td>\n",
       "      <td>CBE</td>\n",
       "      <td>Google Play</td>\n",
       "    </tr>\n",
       "    <tr>\n",
       "      <th>1</th>\n",
       "      <td>best app finance</td>\n",
       "      <td>5</td>\n",
       "      <td>2025-06-04</td>\n",
       "      <td>CBE</td>\n",
       "      <td>Google Play</td>\n",
       "    </tr>\n",
       "    <tr>\n",
       "      <th>2</th>\n",
       "      <td>yetemeta</td>\n",
       "      <td>1</td>\n",
       "      <td>2025-06-03</td>\n",
       "      <td>CBE</td>\n",
       "      <td>Google Play</td>\n",
       "    </tr>\n",
       "    <tr>\n",
       "      <th>3</th>\n",
       "      <td>engida kebede fetera</td>\n",
       "      <td>5</td>\n",
       "      <td>2025-06-03</td>\n",
       "      <td>CBE</td>\n",
       "      <td>Google Play</td>\n",
       "    </tr>\n",
       "    <tr>\n",
       "      <th>4</th>\n",
       "      <td>good</td>\n",
       "      <td>5</td>\n",
       "      <td>2025-06-03</td>\n",
       "      <td>CBE</td>\n",
       "      <td>Google Play</td>\n",
       "    </tr>\n",
       "  </tbody>\n",
       "</table>\n",
       "</div>"
      ],
      "text/plain": [
       "                 review  rating        date bank       source\n",
       "0                  niec       5  2025-06-04  CBE  Google Play\n",
       "1      best app finance       5  2025-06-04  CBE  Google Play\n",
       "2              yetemeta       1  2025-06-03  CBE  Google Play\n",
       "3  engida kebede fetera       5  2025-06-03  CBE  Google Play\n",
       "4                  good       5  2025-06-03  CBE  Google Play"
      ]
     },
     "execution_count": 3,
     "metadata": {},
     "output_type": "execute_result"
    }
   ],
   "source": [
    "df = pd.read_csv('C:/Users/techin/bank-app-review-analysis_week2/data/cleaned_reviews.csv')\n",
    "df.head()"
   ]
  },
  {
   "cell_type": "code",
   "execution_count": 4,
   "id": "aa7749a1",
   "metadata": {},
   "outputs": [
    {
     "name": "stderr",
     "output_type": "stream",
     "text": [
      "[nltk_data] Downloading package punkt to\n",
      "[nltk_data]     C:\\Users\\techin\\AppData\\Roaming\\nltk_data...\n",
      "[nltk_data]   Package punkt is already up-to-date!\n",
      "[nltk_data] Downloading package stopwords to\n",
      "[nltk_data]     C:\\Users\\techin\\AppData\\Roaming\\nltk_data...\n",
      "[nltk_data]   Package stopwords is already up-to-date!\n",
      "[nltk_data] Downloading package wordnet to\n",
      "[nltk_data]     C:\\Users\\techin\\AppData\\Roaming\\nltk_data...\n",
      "[nltk_data]   Package wordnet is already up-to-date!\n",
      "[nltk_data] Downloading package punkt_tab to\n",
      "[nltk_data]     C:\\Users\\techin\\AppData\\Roaming\\nltk_data...\n",
      "[nltk_data]   Package punkt_tab is already up-to-date!\n"
     ]
    },
    {
     "data": {
      "text/plain": [
       "True"
      ]
     },
     "execution_count": 4,
     "metadata": {},
     "output_type": "execute_result"
    }
   ],
   "source": [
    "nltk.download('punkt')\n",
    "nltk.download('stopwords')\n",
    "nltk.download('wordnet')\n",
    "nltk.download('punkt_tab')"
   ]
  },
  {
   "cell_type": "markdown",
   "id": "807a6c84",
   "metadata": {},
   "source": [
    "# Sentiment Analysis \n",
    "## TextBlob"
   ]
  },
  {
   "cell_type": "code",
   "execution_count": 5,
   "id": "7a59f834",
   "metadata": {},
   "outputs": [
    {
     "name": "stdout",
     "output_type": "stream",
     "text": [
      "sentiment\n",
      "positive    3629\n",
      "neutral     2340\n",
      "negative     710\n",
      "Name: count, dtype: int64\n"
     ]
    }
   ],
   "source": [
    "from textblob import TextBlob\n",
    "import pandas as pd\n",
    "\n",
    "def get_sentiment(text):\n",
    "    try:\n",
    "        if pd.isnull(text) or not str(text).strip():\n",
    "            return 'neutral'  # or 'unknown'\n",
    "        analysis = TextBlob(str(text))\n",
    "        polarity = analysis.sentiment.polarity\n",
    "        if polarity > 0:\n",
    "            return 'positive'\n",
    "        elif polarity < 0:\n",
    "            return 'negative'\n",
    "        else:\n",
    "            return 'neutral'\n",
    "    except Exception as e:\n",
    "        return 'neutral'  # fallback for unexpected errors\n",
    "\n",
    "# Apply sentiment analysis safely\n",
    "df['sentiment'] = df['review'].apply(get_sentiment)\n",
    "\n",
    "# View results\n",
    "print(df['sentiment'].value_counts())"
   ]
  },
  {
   "cell_type": "code",
   "execution_count": 6,
   "id": "c5c9cdfe",
   "metadata": {},
   "outputs": [
    {
     "name": "stdout",
     "output_type": "stream",
     "text": [
      "sentiment  negative   neutral  positive\n",
      "bank                                   \n",
      "BOA        0.237327  0.362903  0.399770\n",
      "CBE        0.088437  0.359297  0.552266\n",
      "Dashen     0.064039  0.204433  0.731527\n"
     ]
    }
   ],
   "source": [
    "# Calculate sentiment counts per bank\n",
    "sentiment_counts = df.groupby(['bank', 'sentiment']).size().unstack(fill_value=0)\n",
    "\n",
    "# Convert counts to proportions\n",
    "sentiment_proportions = sentiment_counts.div(sentiment_counts.sum(axis=1), axis=0)\n",
    "\n",
    "# Display result\n",
    "print(sentiment_proportions)"
   ]
  },
  {
   "cell_type": "code",
   "execution_count": 7,
   "id": "e467752f",
   "metadata": {},
   "outputs": [
    {
     "data": {
      "image/png": "[encoded data removed]",
      "text/plain": [
       "<Figure size 1000x600 with 1 Axes>"
      ]
     },
     "metadata": {},
     "output_type": "display_data"
    }
   ],
   "source": [
    "import matplotlib.pyplot as plt\n",
    "\n",
    "# Plot proportions\n",
    "sentiment_proportions.plot(kind='bar', stacked=True, figsize=(10, 6), colormap='viridis')\n",
    "plt.title('Sentiment Proportion by Bank')\n",
    "plt.xlabel('Bank')\n",
    "plt.ylabel('Proportion of Reviews')\n",
    "plt.legend(title='Sentiment')\n",
    "plt.tight_layout()\n",
    "plt.show()"
   ]
  },
  {
   "cell_type": "markdown",
   "id": "e6ef81cf",
   "metadata": {},
   "source": [
    "## Vader"
   ]
  },
  {
   "cell_type": "code",
   "execution_count": 8,
   "id": "9a4f7925",
   "metadata": {},
   "outputs": [
    {
     "name": "stderr",
     "output_type": "stream",
     "text": [
      "[nltk_data] Downloading package vader_lexicon to\n",
      "[nltk_data]     C:\\Users\\techin\\AppData\\Roaming\\nltk_data...\n",
      "[nltk_data]   Package vader_lexicon is already up-to-date!\n"
     ]
    },
    {
     "data": {
      "text/plain": [
       "sentiments\n",
       "posetive    3794\n",
       "neutral     2082\n",
       "negative     803\n",
       "Name: count, dtype: int64"
      ]
     },
     "execution_count": 8,
     "metadata": {},
     "output_type": "execute_result"
    }
   ],
   "source": [
    "\n",
    "nltk.download('vader_lexicon')\n",
    "sia = SentimentIntensityAnalyzer()\n",
    "\n",
    "# Handle NaN and ensure string input\n",
    "df['compound_score'] = df['review'].apply(lambda x: sia.polarity_scores(str(x))['compound'])\n",
    "\n",
    "# Convert score to label\n",
    "def get_sentiment_label(score):\n",
    "    if score >= 0.05:\n",
    "        return 'posetive'\n",
    "    elif score <= -0.05:\n",
    "        return 'negative'\n",
    "    else:\n",
    "        return 'neutral'\n",
    "\n",
    "df['sentiments'] = df['compound_score'].apply(get_sentiment_label)\n",
    "\n",
    "# Save output\n",
    "df['sentiments'].value_counts()"
   ]
  },
  {
   "cell_type": "code",
   "execution_count": 9,
   "id": "b60e850b",
   "metadata": {},
   "outputs": [
    {
     "name": "stdout",
     "output_type": "stream",
     "text": [
      "sentiments  negative   neutral  posetive\n",
      "bank                                    \n",
      "BOA         0.252304  0.328341  0.419355\n",
      "CBE         0.105273  0.315819  0.578908\n",
      "Dashen      0.036946  0.221675  0.741379\n"
     ]
    }
   ],
   "source": [
    "# Calculate sentiment counts per bank\n",
    "sentiment_counts = df.groupby(['bank', 'sentiments']).size().unstack(fill_value=0)\n",
    "\n",
    "# Convert counts to proportions\n",
    "sentiment_proportions = sentiment_counts.div(sentiment_counts.sum(axis=1), axis=0)\n",
    "\n",
    "# Display result\n",
    "print(sentiment_proportions)"
   ]
  },
  {
   "cell_type": "markdown",
   "id": "3006dc84",
   "metadata": {},
   "source": [
    "## Machine learning aproach(Naive bayes)"
   ]
  },
  {
   "cell_type": "code",
   "execution_count": 10,
   "id": "0c0095e7",
   "metadata": {},
   "outputs": [
    {
     "name": "stdout",
     "output_type": "stream",
     "text": [
      "Accuracy: 0.7709580838323353\n"
     ]
    }
   ],
   "source": [
    "from sklearn.model_selection import train_test_split\n",
    "from sklearn.naive_bayes import MultinomialNB\n",
    "from sklearn.metrics import accuracy_score\n",
    "\n",
    "# Create labels based on ratings\n",
    "df['label'] = df['rating'].apply(lambda x: 'positive' if x >= 4 else ('negative' if x <= 2 else 'neutral'))\n",
    "\n",
    "# Vectorize text\n",
    "vectorizer =  TfidfVectorizer()\n",
    "X = vectorizer.fit_transform(df['review'])\n",
    "y = df['label']\n",
    "\n",
    "# Split data\n",
    "X_train, X_test, y_train, y_test = train_test_split(X, y, test_size=0.2, random_state=42)\n",
    "\n",
    "# Train Naive Bayes\n",
    "clf = MultinomialNB()\n",
    "clf.fit(X_train, y_train)\n",
    "\n",
    "# Predict and evaluate\n",
    "y_pred = clf.predict(X_test)\n",
    "print(f'Accuracy: {accuracy_score(y_test, y_pred)}')"
   ]
  },
  {
   "cell_type": "code",
   "execution_count": 11,
   "id": "c0031bc3",
   "metadata": {},
   "outputs": [
    {
     "name": "stdout",
     "output_type": "stream",
     "text": [
      "predicted_sentiment\n",
      "positive    5306\n",
      "negative    1366\n",
      "neutral        7\n",
      "Name: count, dtype: int64\n"
     ]
    }
   ],
   "source": [
    "df['predicted_sentiment'] = clf.predict(X)\n",
    "\n",
    "# Count and display the number of reviews per sentiment\n",
    "sentiment_counts = df['predicted_sentiment'].value_counts()\n",
    "print(sentiment_counts)"
   ]
  },
  {
   "cell_type": "code",
   "execution_count": 12,
   "id": "86e54a90",
   "metadata": {},
   "outputs": [
    {
     "name": "stdout",
     "output_type": "stream",
     "text": [
      "predicted_sentiment  negative   neutral  positive\n",
      "bank                                             \n",
      "BOA                  0.397465  0.000000  0.602535\n",
      "CBE                  0.182794  0.001295  0.815911\n",
      "Dashen               0.081281  0.000000  0.918719\n"
     ]
    }
   ],
   "source": [
    "# Calculate sentiment counts per bank\n",
    "sentiment_counts = df.groupby(['bank', 'predicted_sentiment']).size().unstack(fill_value=0)\n",
    "\n",
    "# Convert counts to proportions\n",
    "sentiment_proportions = sentiment_counts.div(sentiment_counts.sum(axis=1), axis=0)\n",
    "\n",
    "# Display result\n",
    "print(sentiment_proportions)"
   ]
  },
  {
   "cell_type": "markdown",
   "id": "177a65b4",
   "metadata": {},
   "source": [
    "# Key word extraction"
   ]
  },
  {
   "cell_type": "code",
   "execution_count": 13,
   "id": "1c46c0b8",
   "metadata": {},
   "outputs": [
    {
     "name": "stdout",
     "output_type": "stream",
     "text": [
      "Top Keywords: ['access' 'account' 'add' 'also' 'always' 'amazing' 'app' 'application'\n",
      " 'apps' 'bad' 'balance' 'bank' 'banking' 'best' 'better' 'birr' 'branch'\n",
      " 'ca' 'cbe' 'code' 'could' 'customer' 'dashen' 'day' 'developer' 'easy'\n",
      " 'error' 'ethiopia' 'even' 'ever' 'every' 'excellent' 'experience' 'fast'\n",
      " 'feature' 'fix' 'friendly' 'get' 'go' 'good' 'great' 'help' 'history'\n",
      " 'issue' 'keep' 'life' 'like' 'love' 'make' 'mobile' 'money' 'much' 'need'\n",
      " 'network' 'new' 'nice' 'one' 'open' 'option' 'payment' 'phone' 'please'\n",
      " 'poor' 'previous' 'problem' 'properly' 'really' 'recent' 'say' 'see'\n",
      " 'send' 'service' 'show' 'simple' 'sometimes' 'super' 'system' 'thank'\n",
      " 'thanks' 'thing' 'time' 'transaction' 'transfer' 'try' 'update' 'updated'\n",
      " 'use' 'used' 'user' 'using' 'verification' 'version' 'well' 'work'\n",
      " 'working' 'worst' 'would' 'wow' 'በጣም' 'ነው']\n"
     ]
    }
   ],
   "source": [
    "# Vectorize the dataset\n",
    "vectorizer = TfidfVectorizer(max_features=100)\n",
    "X = vectorizer.fit_transform(df['review'])\n",
    "\n",
    "# Get top keywords\n",
    "keywords = vectorizer.get_feature_names_out()\n",
    "print(\"Top Keywords:\", keywords)"
   ]
  },
  {
   "cell_type": "code",
   "execution_count": 12,
   "id": "8c93b5ba",
   "metadata": {},
   "outputs": [
    {
     "name": "stdout",
     "output_type": "stream",
     "text": [
      "Top Keywords: ['amazing app' 'app easy' 'app easy use' 'app ethiopia' 'app ever'\n",
      " 'app ever seen' 'app fast' 'app good' 'app keep' 'app like' 'app make'\n",
      " 'app thanks' 'app use' 'app work' 'app working' 'authorization code'\n",
      " 'bad app' 'bank ethiopia' 'bank super' 'banking app' 'banking app ever'\n",
      " 'banking system' 'best app' 'best application' 'best bank' 'best best'\n",
      " 'best mobile' 'best mobile banking' 'better previous' 'ca use' 'cbe app'\n",
      " 'cbe birr' 'cbe mobile' 'commercial bank' 'commercial bank ethiopia'\n",
      " 'customer service' 'dashen bank' 'dashen super' 'dashen super app'\n",
      " 'developer mode' 'developer option' 'easy fast' 'easy use'\n",
      " 'error message' 'ever seen' 'every time' 'excellent app' 'fast easy'\n",
      " 'fix bug' 'get verification' 'go bank' 'good app' 'good application'\n",
      " 'good job' 'good service' 'good work' 'great app' 'keep crashing'\n",
      " 'last update' 'latest update' 'life easy' 'like app' 'love app'\n",
      " 'make life' 'make transaction' 'mobile app' 'mobile banking'\n",
      " 'mobile banking app' 'need improvement' 'new update' 'new version'\n",
      " 'nice app' 'none available' 'one best' 'one step' 'open app' 'please add'\n",
      " 'please fix' 'please make' 'previous version' 'recent transaction'\n",
      " 'save time' 'see balance' 'send money' 'simple use' 'super app'\n",
      " 'transaction history' 'transfer money' 'turn developer' 'update app'\n",
      " 'updated version' 'use app' 'user friendly' 'using app'\n",
      " 'verification code' 'verification key' 'work properly' 'working properly'\n",
      " 'worst app' 'worst app ever']\n"
     ]
    }
   ],
   "source": [
    "# Vectorize the dataset\n",
    "vectorizer = TfidfVectorizer(max_features=100, ngram_range=(2,3))\n",
    "X = vectorizer.fit_transform(df['review'])\n",
    "\n",
    "# Get top keywords\n",
    "keywords = vectorizer.get_feature_names_out()\n",
    "print(\"Top Keywords:\", keywords)"
   ]
  },
  {
   "cell_type": "code",
   "execution_count": 14,
   "id": "efb2259e",
   "metadata": {},
   "outputs": [
    {
     "name": "stdout",
     "output_type": "stream",
     "text": [
      "Top Keywords in Positive Reviews: ['banking app' 'best app' 'dashen bank' 'easy use' 'good app' 'great app'\n",
      " 'mobile banking' 'mobile banking app' 'nice app' 'user friendly']\n",
      "Top Keywords in Negative Reviews: ['app seen' 'app work' 'bad app' 'banking app' 'developer option'\n",
      " 'error message' 'mobile banking' 'mobile banking app' 'new update'\n",
      " 'poor app' 'recent transaction' 'use app' 'worst app' 'worst mobile'\n",
      " 'worst mobile banking']\n"
     ]
    }
   ],
   "source": [
    "# Filter positive and negative reviews\n",
    "positive_reviews = df[df['sentiments'] == 'posetive']['review']\n",
    "negative_reviews = df[df['sentiments'] == 'negative']['review']\n",
    "\n",
    "# Extract keywords from positive reviews\n",
    "vectorizer_pos = TfidfVectorizer(max_features=10,ngram_range=(2,3), stop_words='english')\n",
    "X_pos = vectorizer_pos.fit_transform(positive_reviews)\n",
    "print(\"Top Keywords in Positive Reviews:\", vectorizer_pos.get_feature_names_out())\n",
    "\n",
    "# Extract keywords from negative reviews\n",
    "vectorizer_neg = TfidfVectorizer(max_features=15,ngram_range=(2,3), stop_words='english')\n",
    "X_neg = vectorizer_neg.fit_transform(negative_reviews)\n",
    "print(\"Top Keywords in Negative Reviews:\", vectorizer_neg.get_feature_names_out())"
   ]
  },
  {
   "cell_type": "code",
   "execution_count": 15,
   "id": "50f95a00",
   "metadata": {},
   "outputs": [
    {
     "name": "stdout",
     "output_type": "stream",
     "text": [
      "\n",
      "Top Negative Key Phrases for CBE:\n",
      "['app ever' 'bad app' 'error message' 'ever seen' 'every time'\n",
      " 'fix problem' 'last update' 'mobile banking' 'new update'\n",
      " 'none available' 'please fix' 'poor app' 'recent transaction'\n",
      " 'show error' 'transaction history' 'use app' 'using app'\n",
      " 'verification code' 'worst app' 'worst app ever']\n",
      "\n",
      "Top Negative Key Phrases for BOA:\n",
      "['app crash' 'app ever' 'bad app' 'banking app' 'banking app ever'\n",
      " 'ca even' 'developer option' 'every time' 'make transaction'\n",
      " 'mobile banking' 'mobile banking app' 'open app' 'please fix' 'poor app'\n",
      " 'useless app' 'worst app' 'worst app ever' 'worst banking app'\n",
      " 'worst mobile' 'worst mobile banking']\n",
      "\n",
      "Top Negative Key Phrases for Dashen:\n",
      "['app close' 'app close frequently' 'app ever' 'worst app' 'ነው ነገር ግን'\n",
      " 'ነገር ግን' 'ነገር ግን ብር' 'አለበት አሱ' 'አለበት አሱ ቢስተካከል' 'አለው ሁሉ' 'አለው ሁሉ ጊዜ'\n",
      " 'አሱ ቢስተካከል' 'አሱ ቢስተካከል star' 'አስከዛው ግን' 'አስከዛው ግን ሰጥቻለው'\n",
      " 'የሚገርም aplication' 'የሚገርም aplication ነው' 'ያለ ፒን' 'ያለ ፒን መሆኑ' 'ጊዜ ትራንስፈር']\n"
     ]
    }
   ],
   "source": [
    "# Filter negative reviews only\n",
    "negative_reviews = df[df['sentiments'] == 'negative']\n",
    "banks = negative_reviews['bank'].unique()\n",
    "\n",
    "# Loop through each bank and extract top negative key phrases\n",
    "for bank in banks:\n",
    "    print(f\"\\nTop Negative Key Phrases for {bank}:\")\n",
    "    \n",
    "    # Get only negative reviews for this bank\n",
    "    bank_reviews = negative_reviews[negative_reviews['bank'] == bank]['review']\n",
    "    \n",
    "    # Vectorize using bigrams/trigrams\n",
    "    vectorizer = TfidfVectorizer(max_features=20, ngram_range=(2, 3))\n",
    "    X = vectorizer.fit_transform(bank_reviews)\n",
    "    \n",
    "    # Print top phrases\n",
    "    top_phrases = vectorizer.get_feature_names_out()\n",
    "    print(top_phrases)"
   ]
  },
  {
   "cell_type": "code",
   "execution_count": 16,
   "id": "d49ed21f",
   "metadata": {},
   "outputs": [
    {
     "name": "stdout",
     "output_type": "stream",
     "text": [
      "\n",
      "Top Negative Key Phrases for CBE:\n",
      "['app ever' 'app working' 'bad app' 'developer mode' 'developer option'\n",
      " 'error message' 'every time' 'go bank' 'last update' 'new update'\n",
      " 'none available' 'please fix' 'recent transaction' 'transaction history'\n",
      " 'update app' 'use app' 'verification code' 'work properly'\n",
      " 'working properly' 'worst app']\n",
      "\n",
      "Top Negative Key Phrases for BOA:\n",
      "['app ever' 'bad app' 'banking app' 'developer option' 'disable developer'\n",
      " 'every time' 'fix bug' 'make transaction' 'mobile banking'\n",
      " 'mobile banking app' 'please fix' 'poor app' 'turn developer' 'use app'\n",
      " 'useless app' 'working properly' 'worst app' 'worst app ever'\n",
      " 'worst mobile' 'worst mobile banking']\n",
      "\n",
      "Top Negative Key Phrases for Dashen:\n",
      "['app ever' 'app working' 'make transaction' 'need improvement' 'need otp'\n",
      " 'recent transaction' 'super app' 'working properly' 'ለመላክ አይሰራም'\n",
      " 'ለመላክ አይሰራም ሁለተኛ' 'መጠየቅ ያለበት' 'መጠየቅ ያለበት ይመስለኛል' 'ሞባይል ነበር' 'ሞባይል ነበር ነዉ'\n",
      " 'ነበር ነዉ' 'ነበር ነዉ መጠየቅ' 'ነዉ መጠየቅ' 'ነዉ መጠየቅ ያለበት' 'አይሰራም ሁለተኛ'\n",
      " 'አይሰራም ሁለተኛ ደግሞ']\n"
     ]
    }
   ],
   "source": [
    "# Filter negative reviews only\n",
    "negative_reviews = df[df['predicted_sentiment'] == 'negative']\n",
    "banks = negative_reviews['bank'].unique()\n",
    "\n",
    "# Loop through each bank and extract top negative key phrases\n",
    "for bank in banks:\n",
    "    print(f\"\\nTop Negative Key Phrases for {bank}:\")\n",
    "    \n",
    "    # Get only negative reviews for this bank\n",
    "    bank_reviews = negative_reviews[negative_reviews['bank'] == bank]['review']\n",
    "    \n",
    "    # Vectorize using bigrams/trigrams\n",
    "    vectorizer = TfidfVectorizer(max_features=20, ngram_range=(2, 3))\n",
    "    X = vectorizer.fit_transform(bank_reviews)\n",
    "    \n",
    "    # Print top phrases\n",
    "    top_phrases = vectorizer.get_feature_names_out()\n",
    "    print(top_phrases)"
   ]
  },
  {
   "cell_type": "markdown",
   "id": "fdf76946",
   "metadata": {},
   "source": [
    "## K means clustering "
   ]
  },
  {
   "cell_type": "code",
   "execution_count": 17,
   "id": "1e98568e",
   "metadata": {},
   "outputs": [],
   "source": [
    "theme_results = []\n",
    "\n",
    "for bank in df['bank'].unique():\n",
    "    bank_reviews = df[df['bank'] == bank]\n",
    "    tfidf = TfidfVectorizer(max_features=100, stop_words='english')\n",
    "    X = tfidf.fit_transform(bank_reviews['review'])\n",
    "\n",
    "    kmeans = KMeans(n_clusters=5, random_state=42)\n",
    "    kmeans.fit(X)\n",
    "    clusters = kmeans.labels_\n",
    "\n",
    "    bank_reviews = bank_reviews.copy()\n",
    "    bank_reviews['theme'] = clusters\n",
    "    theme_results.append(bank_reviews)\n",
    "\n",
    "# Combine all banks\n",
    "df_with_themes = pd.concat(theme_results)\n",
    "\n",
    "# Optional: Label top words in each theme\n",
    "def get_top_keywords_per_cluster(tfidf_matrix, labels, features, n_terms=5):\n",
    "    cluster_keywords = {}\n",
    "    for cluster_num in set(labels):\n",
    "        mean_tfidf = tfidf_matrix[labels == cluster_num].mean(axis=0)\n",
    "        top_idx = mean_tfidf.argsort()[0, -n_terms:].tolist()[0]\n",
    "        cluster_keywords[cluster_num] = [features[i] for i in top_idx[::-1]]\n",
    "    return cluster_keywords"
   ]
  },
  {
   "cell_type": "code",
   "execution_count": 23,
   "id": "56103d1c",
   "metadata": {},
   "outputs": [
    {
     "name": "stdout",
     "output_type": "stream",
     "text": [
      "\n",
      "Top Keywords per Cluster:\n",
      "Cluster 0: app, bank, best, boa, nice, time, like, use, update, bad\n",
      "Cluster 1: working, app, properly, need, update, day, phone, screenshot, best, open\n",
      "Cluster 2: banking, mobile, app, worst, boa, use, work, bank, best, time\n",
      "Cluster 3: good, app, application, service, new, bank, update, boa, user, really\n",
      "Cluster 4: work, app, good, update, bank, feature, bad, device, need, crash\n"
     ]
    },
    {
     "name": "stderr",
     "output_type": "stream",
     "text": [
      "C:\\Users\\techin\\AppData\\Local\\Temp\\ipykernel_10764\\3469162791.py:14: SettingWithCopyWarning: \n",
      "A value is trying to be set on a copy of a slice from a DataFrame.\n",
      "Try using .loc[row_indexer,col_indexer] = value instead\n",
      "\n",
      "See the caveats in the documentation: https://pandas.pydata.org/pandas-docs/stable/user_guide/indexing.html#returning-a-view-versus-a-copy\n",
      "  bank_df['cluster'] = kmeans.labels_\n"
     ]
    }
   ],
   "source": [
    "from sklearn.feature_extraction.text import TfidfVectorizer\n",
    "from sklearn.cluster import KMeans\n",
    "import pandas as pd\n",
    "\n",
    "# Example setup\n",
    "bank_df = df[df['bank'] == 'BOA']  # or any specific bank\n",
    "vectorizer = TfidfVectorizer(max_features=100, stop_words='english')\n",
    "X = vectorizer.fit_transform(bank_df['review'])\n",
    "features = vectorizer.get_feature_names_out()\n",
    "\n",
    "# KMeans clustering\n",
    "kmeans = KMeans(n_clusters=5, random_state=42)\n",
    "kmeans.fit(X)\n",
    "bank_df['cluster'] = kmeans.labels_\n",
    "\n",
    "# Show top keywords for each cluster\n",
    "print(\"\\nTop Keywords per Cluster:\")\n",
    "for i in range(5):\n",
    "    cluster_center = kmeans.cluster_centers_[i]\n",
    "    top_indices = cluster_center.argsort()[-10:][::-1]\n",
    "    top_words = [features[j] for j in top_indices]\n",
    "    print(f\"Cluster {i}: {', '.join(top_words)}\")"
   ]
  },
  {
   "cell_type": "code",
   "execution_count": 25,
   "id": "fef2aad9",
   "metadata": {},
   "outputs": [
    {
     "name": "stdout",
     "output_type": "stream",
     "text": [
      "\n",
      "Sample Reviews per Cluster:\n",
      "\n",
      "Cluster 0 Reviews:\n",
      " - hello facing problem boa mobile app every time enter phone number password app crash show error say boamobile closed app tried updating reinstalling clearing cache nothing worked please fix bug next update really need access account thank\n",
      " - exceptional\n",
      " - worest app loading\n",
      " - app interest android phone please update\n",
      "\n",
      "Cluster 1 Reviews:\n",
      " - app working asked password start loading open\n",
      " - version working even buy card send money\n",
      " - working day\n",
      " - need support app working\n",
      "\n",
      "Cluster 2 Reviews:\n",
      " - boa mobile good bank\n",
      " - boa mobile backing\n",
      " - work period z slowest mobile banking ever would rather use 815\n",
      " - went bank many time could make transaction see balance nothing else point mobile banking ca make transaction please work\n",
      "\n",
      "Cluster 3 Reviews:\n",
      " - good service\n",
      " - good\n",
      " - excellent app\n",
      " - liking application good\n",
      "\n",
      "Cluster 4 Reviews:\n",
      " - app joke crash work take forever load half feature decorative point log transfer money even check balance without bugging developer actually trying make work kind social experiment test patience build sleep definitely look like idea functional app maybe consider different career\n",
      " - worst app ever totally unreliable work last 4 month\n",
      " - app work samsung a51 give preview logo\n",
      " - bad app stuck open noting work\n"
     ]
    }
   ],
   "source": [
    "print(\"\\nSample Reviews per Cluster:\")\n",
    "for i in range(5):\n",
    "    print(f\"\\nCluster {i} Reviews:\")\n",
    "    sample_reviews = bank_df[bank_df['cluster'] == i]['review'].head(4)  # change to 5 if needed\n",
    "    for review in sample_reviews:\n",
    "        print(f\" - {review}\")"
   ]
  }
 ],
 "metadata": {
  "kernelspec": {
   "display_name": ".venv",
   "language": "python",
   "name": "python3"
  },
  "language_info": {
   "codemirror_mode": {
    "name": "ipython",
    "version": 3
   },
   "file_extension": ".py",
   "mimetype": "text/x-python",
   "name": "python",
   "nbconvert_exporter": "python",
   "pygments_lexer": "ipython3",
   "version": "3.12.4"
  }
 },
 "nbformat": 4,
 "nbformat_minor": 5
}
